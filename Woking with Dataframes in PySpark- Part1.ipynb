{
 "cells": [
  {
   "cell_type": "raw",
   "id": "marked-shelter",
   "metadata": {},
   "source": [
    "Tutorial for Pyspark\n",
    "    1 : PySpark Dataframe\n",
    "    2 : Reading The Dataset\n",
    "    3 : Checking the Datatypes of the Column(Schema)\n",
    "    4 : Selecting Columns And Indexing\n",
    "    5 : Check Describe option similar to Pandas\n",
    "    6 : Adding Columns\n",
    "    7 : Dropping columns\n",
    "    8 : Renaming Columns\n"
   ]
  },
  {
   "cell_type": "code",
   "execution_count": 2,
   "id": "average-legislation",
   "metadata": {},
   "outputs": [],
   "source": [
    "from pyspark.sql import SparkSession"
   ]
  },
  {
   "cell_type": "code",
   "execution_count": 3,
   "id": "included-transition",
   "metadata": {},
   "outputs": [],
   "source": [
    "spark = SparkSession.builder.appName('DataFrame').getOrCreate()"
   ]
  },
  {
   "cell_type": "code",
   "execution_count": 4,
   "id": "accompanied-double",
   "metadata": {},
   "outputs": [
    {
     "data": {
      "text/html": [
       "\n",
       "            <div>\n",
       "                <p><b>SparkSession - in-memory</b></p>\n",
       "                \n",
       "        <div>\n",
       "            <p><b>SparkContext</b></p>\n",
       "\n",
       "            <p><a href=\"http://9.211.87.240:4041\">Spark UI</a></p>\n",
       "\n",
       "            <dl>\n",
       "              <dt>Version</dt>\n",
       "                <dd><code>v3.1.2</code></dd>\n",
       "              <dt>Master</dt>\n",
       "                <dd><code>local[*]</code></dd>\n",
       "              <dt>AppName</dt>\n",
       "                <dd><code>DataFrame</code></dd>\n",
       "            </dl>\n",
       "        </div>\n",
       "        \n",
       "            </div>\n",
       "        "
      ],
      "text/plain": [
       "<pyspark.sql.session.SparkSession at 0x209cc809508>"
      ]
     },
     "execution_count": 4,
     "metadata": {},
     "output_type": "execute_result"
    }
   ],
   "source": [
    "spark"
   ]
  },
  {
   "cell_type": "code",
   "execution_count": 10,
   "id": "therapeutic-freeware",
   "metadata": {},
   "outputs": [],
   "source": [
    "##Read the dataset\n",
    "df_pyspark = spark.read.option('header', 'true').csv('Test1.csv',inferSchema = True)"
   ]
  },
  {
   "cell_type": "code",
   "execution_count": 11,
   "id": "ambient-booth",
   "metadata": {},
   "outputs": [
    {
     "name": "stdout",
     "output_type": "stream",
     "text": [
      "root\n",
      " |-- Name: string (nullable = true)\n",
      " |-- Age: integer (nullable = true)\n",
      " |-- Experience: integer (nullable = true)\n",
      "\n"
     ]
    }
   ],
   "source": [
    "df_pyspark.printSchema()"
   ]
  },
  {
   "cell_type": "code",
   "execution_count": 12,
   "id": "present-appearance",
   "metadata": {},
   "outputs": [],
   "source": [
    "df_pyspark = spark.read.csv('Test1.csv', header = True, inferSchema = True)"
   ]
  },
  {
   "cell_type": "code",
   "execution_count": 13,
   "id": "oriented-titanium",
   "metadata": {},
   "outputs": [
    {
     "name": "stdout",
     "output_type": "stream",
     "text": [
      "root\n",
      " |-- Name: string (nullable = true)\n",
      " |-- Age: integer (nullable = true)\n",
      " |-- Experience: integer (nullable = true)\n",
      "\n"
     ]
    }
   ],
   "source": [
    "df_pyspark.printSchema()"
   ]
  },
  {
   "cell_type": "code",
   "execution_count": 14,
   "id": "alien-heart",
   "metadata": {},
   "outputs": [
    {
     "data": {
      "text/plain": [
       "pyspark.sql.dataframe.DataFrame"
      ]
     },
     "execution_count": 14,
     "metadata": {},
     "output_type": "execute_result"
    }
   ],
   "source": [
    "type(df_pyspark)"
   ]
  },
  {
   "cell_type": "code",
   "execution_count": 15,
   "id": "lucky-venture",
   "metadata": {},
   "outputs": [
    {
     "data": {
      "text/plain": [
       "['Name', 'Age', 'Experience']"
      ]
     },
     "execution_count": 15,
     "metadata": {},
     "output_type": "execute_result"
    }
   ],
   "source": [
    "##Get all the column names\n",
    "df_pyspark.columns"
   ]
  },
  {
   "cell_type": "code",
   "execution_count": 17,
   "id": "resident-breakfast",
   "metadata": {},
   "outputs": [
    {
     "data": {
      "text/plain": [
       "[Row(Name='Gaurav', Age=26, Experience=10),\n",
       " Row(Name='Roopam', Age=29, Experience=9),\n",
       " Row(Name='Nareshs', Age=59, Experience=11)]"
      ]
     },
     "execution_count": 17,
     "metadata": {},
     "output_type": "execute_result"
    }
   ],
   "source": [
    "df_pyspark.head(3)   ###Get in List format"
   ]
  },
  {
   "cell_type": "code",
   "execution_count": 18,
   "id": "processed-engine",
   "metadata": {},
   "outputs": [
    {
     "name": "stdout",
     "output_type": "stream",
     "text": [
      "+-------+---+----------+\n",
      "|   Name|Age|Experience|\n",
      "+-------+---+----------+\n",
      "| Gaurav| 26|        10|\n",
      "| Roopam| 29|         9|\n",
      "|Nareshs| 59|        11|\n",
      "+-------+---+----------+\n",
      "\n"
     ]
    }
   ],
   "source": [
    "##Pick up a column\n",
    "df_pyspark.show()"
   ]
  },
  {
   "cell_type": "code",
   "execution_count": 20,
   "id": "collaborative-ethnic",
   "metadata": {},
   "outputs": [
    {
     "name": "stdout",
     "output_type": "stream",
     "text": [
      "+-------+\n",
      "|   Name|\n",
      "+-------+\n",
      "| Gaurav|\n",
      "| Roopam|\n",
      "|Nareshs|\n",
      "+-------+\n",
      "\n"
     ]
    }
   ],
   "source": [
    "##Select only 1 column using select command\n",
    "df_pyspark.select('Name').show()"
   ]
  },
  {
   "cell_type": "code",
   "execution_count": 22,
   "id": "acoustic-validation",
   "metadata": {},
   "outputs": [
    {
     "name": "stdout",
     "output_type": "stream",
     "text": [
      "+-------+----------+\n",
      "|   Name|Experience|\n",
      "+-------+----------+\n",
      "| Gaurav|        10|\n",
      "| Roopam|         9|\n",
      "|Nareshs|        11|\n",
      "+-------+----------+\n",
      "\n"
     ]
    }
   ],
   "source": [
    "df_pyspark.select(['Name','Experience']).show()"
   ]
  },
  {
   "cell_type": "code",
   "execution_count": 23,
   "id": "sublime-ireland",
   "metadata": {},
   "outputs": [
    {
     "data": {
      "text/plain": [
       "Column<'Name'>"
      ]
     },
     "execution_count": 23,
     "metadata": {},
     "output_type": "execute_result"
    }
   ],
   "source": [
    "df_pyspark['Name']"
   ]
  },
  {
   "cell_type": "code",
   "execution_count": 24,
   "id": "temporal-sheet",
   "metadata": {},
   "outputs": [
    {
     "data": {
      "text/plain": [
       "[('Name', 'string'), ('Age', 'int'), ('Experience', 'int')]"
      ]
     },
     "execution_count": 24,
     "metadata": {},
     "output_type": "execute_result"
    }
   ],
   "source": [
    "##Check the data types of different columns\n",
    "df_pyspark.dtypes"
   ]
  },
  {
   "cell_type": "code",
   "execution_count": 28,
   "id": "concerned-berlin",
   "metadata": {},
   "outputs": [
    {
     "name": "stdout",
     "output_type": "stream",
     "text": [
      "+-------+------+-----------------+----------+\n",
      "|summary|  Name|              Age|Experience|\n",
      "+-------+------+-----------------+----------+\n",
      "|  count|     3|                3|         3|\n",
      "|   mean|  null|             38.0|      10.0|\n",
      "| stddev|  null|18.24828759089466|       1.0|\n",
      "|    min|Gaurav|               26|         9|\n",
      "|    max|Roopam|               59|        11|\n",
      "+-------+------+-----------------+----------+\n",
      "\n"
     ]
    }
   ],
   "source": [
    "df_pyspark.describe().show()"
   ]
  },
  {
   "cell_type": "code",
   "execution_count": 29,
   "id": "affected-surge",
   "metadata": {},
   "outputs": [],
   "source": [
    "##Adding Columns in Data Frame"
   ]
  },
  {
   "cell_type": "code",
   "execution_count": 32,
   "id": "second-matrix",
   "metadata": {},
   "outputs": [],
   "source": [
    "df_pyspark = df_pyspark.withColumn('Experience after 2 years', df_pyspark['Experience']+2)"
   ]
  },
  {
   "cell_type": "code",
   "execution_count": 33,
   "id": "regulation-taylor",
   "metadata": {},
   "outputs": [
    {
     "name": "stdout",
     "output_type": "stream",
     "text": [
      "+-------+---+----------+------------------------+\n",
      "|   Name|Age|Experience|Experience after 2 years|\n",
      "+-------+---+----------+------------------------+\n",
      "| Gaurav| 26|        10|                      12|\n",
      "| Roopam| 29|         9|                      11|\n",
      "|Nareshs| 59|        11|                      13|\n",
      "+-------+---+----------+------------------------+\n",
      "\n"
     ]
    }
   ],
   "source": [
    "df_pyspark.show()"
   ]
  },
  {
   "cell_type": "code",
   "execution_count": 34,
   "id": "higher-fellowship",
   "metadata": {},
   "outputs": [],
   "source": [
    "##Dropping A column"
   ]
  },
  {
   "cell_type": "code",
   "execution_count": 36,
   "id": "suspended-principle",
   "metadata": {},
   "outputs": [],
   "source": [
    "df_pyspark = df_pyspark.drop('Experience after 2 years')"
   ]
  },
  {
   "cell_type": "code",
   "execution_count": 37,
   "id": "classical-recording",
   "metadata": {},
   "outputs": [
    {
     "name": "stdout",
     "output_type": "stream",
     "text": [
      "+-------+---+----------+\n",
      "|   Name|Age|Experience|\n",
      "+-------+---+----------+\n",
      "| Gaurav| 26|        10|\n",
      "| Roopam| 29|         9|\n",
      "|Nareshs| 59|        11|\n",
      "+-------+---+----------+\n",
      "\n"
     ]
    }
   ],
   "source": [
    "df_pyspark.show()"
   ]
  },
  {
   "cell_type": "code",
   "execution_count": 38,
   "id": "criminal-defeat",
   "metadata": {},
   "outputs": [],
   "source": [
    "##Rename the column"
   ]
  },
  {
   "cell_type": "code",
   "execution_count": 39,
   "id": "instant-punch",
   "metadata": {},
   "outputs": [],
   "source": [
    "df_pyspark = df_pyspark.withColumnRenamed('Name', 'NewName')"
   ]
  },
  {
   "cell_type": "code",
   "execution_count": 40,
   "id": "stuffed-ridge",
   "metadata": {},
   "outputs": [
    {
     "name": "stdout",
     "output_type": "stream",
     "text": [
      "+-------+---+----------+\n",
      "|NewName|Age|Experience|\n",
      "+-------+---+----------+\n",
      "| Gaurav| 26|        10|\n",
      "| Roopam| 29|         9|\n",
      "|Nareshs| 59|        11|\n",
      "+-------+---+----------+\n",
      "\n"
     ]
    }
   ],
   "source": [
    "df_pyspark.show()"
   ]
  },
  {
   "cell_type": "code",
   "execution_count": null,
   "id": "toxic-canada",
   "metadata": {},
   "outputs": [],
   "source": []
  },
  {
   "cell_type": "code",
   "execution_count": null,
   "id": "tropical-frost",
   "metadata": {},
   "outputs": [],
   "source": []
  }
 ],
 "metadata": {
  "kernelspec": {
   "display_name": "Python 3",
   "language": "python",
   "name": "python3"
  },
  "language_info": {
   "codemirror_mode": {
    "name": "ipython",
    "version": 3
   },
   "file_extension": ".py",
   "mimetype": "text/x-python",
   "name": "python",
   "nbconvert_exporter": "python",
   "pygments_lexer": "ipython3",
   "version": "3.7.10"
  }
 },
 "nbformat": 4,
 "nbformat_minor": 5
}
