{
 "cells": [
  {
   "cell_type": "markdown",
   "id": "agricultural-store",
   "metadata": {},
   "source": [
    "# Pyspark Dataframes"
   ]
  },
  {
   "cell_type": "raw",
   "id": "aging-tissue",
   "metadata": {},
   "source": [
    "Filter Operation\n",
    "&,|,==\n",
    "~"
   ]
  },
  {
   "cell_type": "code",
   "execution_count": 1,
   "id": "naughty-contrary",
   "metadata": {},
   "outputs": [],
   "source": [
    "from pyspark.sql import SparkSession"
   ]
  },
  {
   "cell_type": "code",
   "execution_count": 2,
   "id": "integrated-tutorial",
   "metadata": {},
   "outputs": [],
   "source": [
    "spark = SparkSession.builder.appName('DataFrame').getOrCreate()"
   ]
  },
  {
   "cell_type": "code",
   "execution_count": 3,
   "id": "proof-youth",
   "metadata": {},
   "outputs": [
    {
     "data": {
      "text/html": [
       "\n",
       "            <div>\n",
       "                <p><b>SparkSession - in-memory</b></p>\n",
       "                \n",
       "        <div>\n",
       "            <p><b>SparkContext</b></p>\n",
       "\n",
       "            <p><a href=\"http://9.211.57.46:4043\">Spark UI</a></p>\n",
       "\n",
       "            <dl>\n",
       "              <dt>Version</dt>\n",
       "                <dd><code>v3.1.2</code></dd>\n",
       "              <dt>Master</dt>\n",
       "                <dd><code>local[*]</code></dd>\n",
       "              <dt>AppName</dt>\n",
       "                <dd><code>DataFrame</code></dd>\n",
       "            </dl>\n",
       "        </div>\n",
       "        \n",
       "            </div>\n",
       "        "
      ],
      "text/plain": [
       "<pyspark.sql.session.SparkSession at 0x1e75aff5d08>"
      ]
     },
     "execution_count": 3,
     "metadata": {},
     "output_type": "execute_result"
    }
   ],
   "source": [
    "spark"
   ]
  },
  {
   "cell_type": "code",
   "execution_count": 6,
   "id": "ultimate-scoop",
   "metadata": {},
   "outputs": [],
   "source": [
    "df_pyspark = spark.read.csv('Test3.csv', header = True, inferSchema = True)"
   ]
  },
  {
   "cell_type": "code",
   "execution_count": 7,
   "id": "settled-andrews",
   "metadata": {},
   "outputs": [
    {
     "name": "stdout",
     "output_type": "stream",
     "text": [
      "+--------+---+-----------+-------+\n",
      "|    Name|Age|Experience | Salary|\n",
      "+--------+---+-----------+-------+\n",
      "|  Gaurav| 20|         10| 900000|\n",
      "|  Roopam| 30|         21|1000000|\n",
      "| Dhairya| 10|          9|  20000|\n",
      "|Abhilash| 30|         10|  20000|\n",
      "|  Naveen| 10|          9|  10000|\n",
      "|  Naresh| 30|         12|  30000|\n",
      "+--------+---+-----------+-------+\n",
      "\n"
     ]
    }
   ],
   "source": [
    "df_pyspark.show()"
   ]
  },
  {
   "cell_type": "markdown",
   "id": "mathematical-council",
   "metadata": {},
   "source": [
    "# Filter Operation"
   ]
  },
  {
   "cell_type": "code",
   "execution_count": 8,
   "id": "metallic-singapore",
   "metadata": {},
   "outputs": [],
   "source": [
    "###Salary of people less than or equal to 20000"
   ]
  },
  {
   "cell_type": "code",
   "execution_count": 9,
   "id": "sorted-bangladesh",
   "metadata": {},
   "outputs": [
    {
     "name": "stdout",
     "output_type": "stream",
     "text": [
      "+--------+---+-----------+------+\n",
      "|    Name|Age|Experience |Salary|\n",
      "+--------+---+-----------+------+\n",
      "| Dhairya| 10|          9| 20000|\n",
      "|Abhilash| 30|         10| 20000|\n",
      "|  Naveen| 10|          9| 10000|\n",
      "+--------+---+-----------+------+\n",
      "\n"
     ]
    }
   ],
   "source": [
    "df_pyspark.filter(\"Salary<=20000\").show()"
   ]
  },
  {
   "cell_type": "code",
   "execution_count": 11,
   "id": "departmental-commerce",
   "metadata": {},
   "outputs": [
    {
     "name": "stdout",
     "output_type": "stream",
     "text": [
      "+--------+---+\n",
      "|    Name|Age|\n",
      "+--------+---+\n",
      "| Dhairya| 10|\n",
      "|Abhilash| 30|\n",
      "|  Naveen| 10|\n",
      "+--------+---+\n",
      "\n"
     ]
    }
   ],
   "source": [
    "df_pyspark.filter(\"Salary<=20000\").select(['Name','Age']).show()"
   ]
  },
  {
   "cell_type": "code",
   "execution_count": 13,
   "id": "external-attention",
   "metadata": {},
   "outputs": [
    {
     "name": "stdout",
     "output_type": "stream",
     "text": [
      "+--------+---+-----------+------+\n",
      "|    Name|Age|Experience |Salary|\n",
      "+--------+---+-----------+------+\n",
      "| Dhairya| 10|          9| 20000|\n",
      "|Abhilash| 30|         10| 20000|\n",
      "|  Naveen| 10|          9| 10000|\n",
      "+--------+---+-----------+------+\n",
      "\n"
     ]
    }
   ],
   "source": [
    "df_pyspark.filter(df_pyspark['Salary']<=20000).show()"
   ]
  },
  {
   "cell_type": "code",
   "execution_count": null,
   "id": "maritime-telescope",
   "metadata": {},
   "outputs": [],
   "source": [
    "###Put 2 different conditions"
   ]
  },
  {
   "cell_type": "code",
   "execution_count": 20,
   "id": "persistent-screw",
   "metadata": {},
   "outputs": [
    {
     "name": "stdout",
     "output_type": "stream",
     "text": [
      "+--------+---+-----------+-------+\n",
      "|    Name|Age|Experience | Salary|\n",
      "+--------+---+-----------+-------+\n",
      "|  Gaurav| 20|         10| 900000|\n",
      "|  Roopam| 30|         21|1000000|\n",
      "| Dhairya| 10|          9|  20000|\n",
      "|Abhilash| 30|         10|  20000|\n",
      "|  Naveen| 10|          9|  10000|\n",
      "+--------+---+-----------+-------+\n",
      "\n"
     ]
    }
   ],
   "source": [
    "df_pyspark.filter((df_pyspark['Salary']<=20000) | (df_pyspark['Salary']>=50000)).show()"
   ]
  },
  {
   "cell_type": "code",
   "execution_count": 21,
   "id": "loose-median",
   "metadata": {},
   "outputs": [],
   "source": [
    "##Inverse filter operation"
   ]
  },
  {
   "cell_type": "code",
   "execution_count": 22,
   "id": "varied-development",
   "metadata": {},
   "outputs": [
    {
     "name": "stdout",
     "output_type": "stream",
     "text": [
      "+------+---+-----------+-------+\n",
      "|  Name|Age|Experience | Salary|\n",
      "+------+---+-----------+-------+\n",
      "|Gaurav| 20|         10| 900000|\n",
      "|Roopam| 30|         21|1000000|\n",
      "|Naresh| 30|         12|  30000|\n",
      "+------+---+-----------+-------+\n",
      "\n"
     ]
    }
   ],
   "source": [
    "df_pyspark.filter(~(df_pyspark['Salary']<=20000)).show()"
   ]
  },
  {
   "cell_type": "code",
   "execution_count": null,
   "id": "settled-binding",
   "metadata": {},
   "outputs": [],
   "source": []
  },
  {
   "cell_type": "code",
   "execution_count": null,
   "id": "vocal-ordinary",
   "metadata": {},
   "outputs": [],
   "source": []
  },
  {
   "cell_type": "code",
   "execution_count": null,
   "id": "driven-costs",
   "metadata": {},
   "outputs": [],
   "source": []
  },
  {
   "cell_type": "code",
   "execution_count": null,
   "id": "speaking-honduras",
   "metadata": {},
   "outputs": [],
   "source": []
  },
  {
   "cell_type": "code",
   "execution_count": null,
   "id": "proof-capital",
   "metadata": {},
   "outputs": [],
   "source": []
  },
  {
   "cell_type": "code",
   "execution_count": null,
   "id": "medical-prescription",
   "metadata": {},
   "outputs": [],
   "source": []
  },
  {
   "cell_type": "code",
   "execution_count": null,
   "id": "coordinated-transition",
   "metadata": {},
   "outputs": [],
   "source": []
  },
  {
   "cell_type": "code",
   "execution_count": null,
   "id": "excessive-strike",
   "metadata": {},
   "outputs": [],
   "source": []
  },
  {
   "cell_type": "code",
   "execution_count": null,
   "id": "acoustic-burst",
   "metadata": {},
   "outputs": [],
   "source": []
  },
  {
   "cell_type": "code",
   "execution_count": null,
   "id": "separated-prize",
   "metadata": {},
   "outputs": [],
   "source": []
  },
  {
   "cell_type": "code",
   "execution_count": null,
   "id": "conditional-meter",
   "metadata": {},
   "outputs": [],
   "source": []
  },
  {
   "cell_type": "code",
   "execution_count": null,
   "id": "tribal-stone",
   "metadata": {},
   "outputs": [],
   "source": []
  },
  {
   "cell_type": "code",
   "execution_count": null,
   "id": "useful-commissioner",
   "metadata": {},
   "outputs": [],
   "source": []
  },
  {
   "cell_type": "code",
   "execution_count": null,
   "id": "medium-suite",
   "metadata": {},
   "outputs": [],
   "source": []
  }
 ],
 "metadata": {
  "kernelspec": {
   "display_name": "Python 3",
   "language": "python",
   "name": "python3"
  },
  "language_info": {
   "codemirror_mode": {
    "name": "ipython",
    "version": 3
   },
   "file_extension": ".py",
   "mimetype": "text/x-python",
   "name": "python",
   "nbconvert_exporter": "python",
   "pygments_lexer": "ipython3",
   "version": "3.7.10"
  }
 },
 "nbformat": 4,
 "nbformat_minor": 5
}
