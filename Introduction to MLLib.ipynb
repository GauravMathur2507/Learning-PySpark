{
 "cells": [
  {
   "cell_type": "code",
   "execution_count": 1,
   "id": "executive-somalia",
   "metadata": {},
   "outputs": [],
   "source": [
    "from pyspark.sql import SparkSession"
   ]
  },
  {
   "cell_type": "code",
   "execution_count": 2,
   "id": "promotional-austria",
   "metadata": {},
   "outputs": [
    {
     "data": {
      "text/html": [
       "\n",
       "            <div>\n",
       "                <p><b>SparkSession - in-memory</b></p>\n",
       "                \n",
       "        <div>\n",
       "            <p><b>SparkContext</b></p>\n",
       "\n",
       "            <p><a href=\"http://DESKTOP-D9FH843.mshome.net:4045\">Spark UI</a></p>\n",
       "\n",
       "            <dl>\n",
       "              <dt>Version</dt>\n",
       "                <dd><code>v3.1.2</code></dd>\n",
       "              <dt>Master</dt>\n",
       "                <dd><code>local[*]</code></dd>\n",
       "              <dt>AppName</dt>\n",
       "                <dd><code>Dataframe</code></dd>\n",
       "            </dl>\n",
       "        </div>\n",
       "        \n",
       "            </div>\n",
       "        "
      ],
      "text/plain": [
       "<pyspark.sql.session.SparkSession at 0x282eff0b748>"
      ]
     },
     "execution_count": 2,
     "metadata": {},
     "output_type": "execute_result"
    }
   ],
   "source": [
    "spark = SparkSession.builder.appName('Dataframe').getOrCreate()\n",
    "spark"
   ]
  },
  {
   "cell_type": "code",
   "execution_count": 4,
   "id": "controversial-tower",
   "metadata": {},
   "outputs": [],
   "source": [
    "df_pyspark = spark.read.csv('Test3.csv', header = True, inferSchema = True)"
   ]
  },
  {
   "cell_type": "code",
   "execution_count": 5,
   "id": "digital-commonwealth",
   "metadata": {},
   "outputs": [
    {
     "name": "stdout",
     "output_type": "stream",
     "text": [
      "+--------+---+-----------+-------+\n",
      "|    Name|Age|Experience | Salary|\n",
      "+--------+---+-----------+-------+\n",
      "|  Gaurav| 20|         10| 900000|\n",
      "|  Roopam| 30|         21|1000000|\n",
      "| Dhairya| 10|          9|  20000|\n",
      "|Abhilash| 30|         10|  20000|\n",
      "|  Naveen| 10|          9|  10000|\n",
      "|  Naresh| 30|         12|  30000|\n",
      "+--------+---+-----------+-------+\n",
      "\n"
     ]
    }
   ],
   "source": [
    "df_pyspark.show()s"
   ]
  },
  {
   "cell_type": "code",
   "execution_count": 6,
   "id": "advanced-syntax",
   "metadata": {},
   "outputs": [
    {
     "name": "stdout",
     "output_type": "stream",
     "text": [
      "root\n",
      " |-- Name: string (nullable = true)\n",
      " |-- Age: integer (nullable = true)\n",
      " |-- Experience : integer (nullable = true)\n",
      " |-- Salary: integer (nullable = true)\n",
      "\n"
     ]
    }
   ],
   "source": [
    "df_pyspark.printSchema()"
   ]
  },
  {
   "cell_type": "code",
   "execution_count": 7,
   "id": "sustainable-spanking",
   "metadata": {},
   "outputs": [
    {
     "data": {
      "text/plain": [
       "['Name', 'Age', 'Experience ', 'Salary']"
      ]
     },
     "execution_count": 7,
     "metadata": {},
     "output_type": "execute_result"
    }
   ],
   "source": [
    "df_pyspark.columns"
   ]
  },
  {
   "cell_type": "code",
   "execution_count": 8,
   "id": "proof-muscle",
   "metadata": {},
   "outputs": [],
   "source": [
    "###Vector Assembler"
   ]
  },
  {
   "cell_type": "code",
   "execution_count": 9,
   "id": "opponent-observer",
   "metadata": {},
   "outputs": [],
   "source": [
    "##All the independent feature will be grouped together using Vector Assembler and it will be treated as a new feature."
   ]
  },
  {
   "cell_type": "code",
   "execution_count": 10,
   "id": "pointed-election",
   "metadata": {},
   "outputs": [],
   "source": [
    "from pyspark.ml.feature import VectorAssembler"
   ]
  },
  {
   "cell_type": "code",
   "execution_count": 15,
   "id": "organic-bearing",
   "metadata": {},
   "outputs": [],
   "source": [
    "featureassembler = VectorAssembler(inputCols = ['Age','Experience '], outputCol = 'Independent Feature')"
   ]
  },
  {
   "cell_type": "code",
   "execution_count": 16,
   "id": "plastic-language",
   "metadata": {},
   "outputs": [],
   "source": [
    "output = featureassembler.transform(df_pyspark)"
   ]
  },
  {
   "cell_type": "code",
   "execution_count": 17,
   "id": "serious-rabbit",
   "metadata": {},
   "outputs": [
    {
     "name": "stdout",
     "output_type": "stream",
     "text": [
      "+--------+---+-----------+-------+-------------------+\n",
      "|    Name|Age|Experience | Salary|Independent Feature|\n",
      "+--------+---+-----------+-------+-------------------+\n",
      "|  Gaurav| 20|         10| 900000|        [20.0,10.0]|\n",
      "|  Roopam| 30|         21|1000000|        [30.0,21.0]|\n",
      "| Dhairya| 10|          9|  20000|         [10.0,9.0]|\n",
      "|Abhilash| 30|         10|  20000|        [30.0,10.0]|\n",
      "|  Naveen| 10|          9|  10000|         [10.0,9.0]|\n",
      "|  Naresh| 30|         12|  30000|        [30.0,12.0]|\n",
      "+--------+---+-----------+-------+-------------------+\n",
      "\n"
     ]
    }
   ],
   "source": [
    "output.show()"
   ]
  },
  {
   "cell_type": "code",
   "execution_count": 18,
   "id": "hungry-sight",
   "metadata": {},
   "outputs": [
    {
     "data": {
      "text/plain": [
       "['Name', 'Age', 'Experience ', 'Salary', 'Independent Feature']"
      ]
     },
     "execution_count": 18,
     "metadata": {},
     "output_type": "execute_result"
    }
   ],
   "source": [
    "output.columns"
   ]
  },
  {
   "cell_type": "code",
   "execution_count": 19,
   "id": "stuffed-taylor",
   "metadata": {},
   "outputs": [],
   "source": [
    "finalized_data = output.select('Independent Feature', 'Salary')"
   ]
  },
  {
   "cell_type": "code",
   "execution_count": 20,
   "id": "nutritional-variance",
   "metadata": {},
   "outputs": [
    {
     "name": "stdout",
     "output_type": "stream",
     "text": [
      "+-------------------+-------+\n",
      "|Independent Feature| Salary|\n",
      "+-------------------+-------+\n",
      "|        [20.0,10.0]| 900000|\n",
      "|        [30.0,21.0]|1000000|\n",
      "|         [10.0,9.0]|  20000|\n",
      "|        [30.0,10.0]|  20000|\n",
      "|         [10.0,9.0]|  10000|\n",
      "|        [30.0,12.0]|  30000|\n",
      "+-------------------+-------+\n",
      "\n"
     ]
    }
   ],
   "source": [
    "finalized_data.show()"
   ]
  },
  {
   "cell_type": "code",
   "execution_count": 23,
   "id": "informational-packing",
   "metadata": {},
   "outputs": [],
   "source": [
    "from pyspark.ml.regression import LinearRegression\n",
    "####train test split\n",
    "train_data, test_data = finalized_data.randomSplit([0.75, 0.25])\n",
    "regressor = LinearRegression(featuresCol = 'Independent Feature', labelCol = 'Salary')\n",
    "regressor = regressor.fit(train_data)"
   ]
  },
  {
   "cell_type": "code",
   "execution_count": 24,
   "id": "north-agent",
   "metadata": {},
   "outputs": [
    {
     "data": {
      "text/plain": [
       "DenseVector([-96082.5243, 94805.8252])"
      ]
     },
     "execution_count": 24,
     "metadata": {},
     "output_type": "execute_result"
    }
   ],
   "source": [
    "regressor.coefficients"
   ]
  },
  {
   "cell_type": "code",
   "execution_count": 25,
   "id": "included-composer",
   "metadata": {},
   "outputs": [
    {
     "data": {
      "text/plain": [
       "1873592.2330096979"
      ]
     },
     "execution_count": 25,
     "metadata": {},
     "output_type": "execute_result"
    }
   ],
   "source": [
    "regressor.intercept"
   ]
  },
  {
   "cell_type": "code",
   "execution_count": 26,
   "id": "dependent-choir",
   "metadata": {},
   "outputs": [],
   "source": [
    "####Prediction\n",
    "pred_results = regressor.evaluate(test_data)"
   ]
  },
  {
   "cell_type": "code",
   "execution_count": 27,
   "id": "medieval-tribe",
   "metadata": {
    "scrolled": true
   },
   "outputs": [
    {
     "name": "stdout",
     "output_type": "stream",
     "text": [
      "+-------------------+------+------------------+\n",
      "|Independent Feature|Salary|        prediction|\n",
      "+-------------------+------+------------------+\n",
      "|         [10.0,9.0]| 10000|1766019.4174757213|\n",
      "|         [10.0,9.0]| 20000|1766019.4174757213|\n",
      "+-------------------+------+------------------+\n",
      "\n"
     ]
    }
   ],
   "source": [
    "pred_results.predictions.show()"
   ]
  },
  {
   "cell_type": "code",
   "execution_count": 28,
   "id": "opposed-resource",
   "metadata": {},
   "outputs": [
    {
     "data": {
      "text/plain": [
       "(1751019.4174757213, 3066094000377.015)"
      ]
     },
     "execution_count": 28,
     "metadata": {},
     "output_type": "execute_result"
    }
   ],
   "source": [
    "pred_results.meanAbsoluteError, pred_results.meanSquaredError"
   ]
  },
  {
   "cell_type": "code",
   "execution_count": null,
   "id": "relative-cosmetic",
   "metadata": {},
   "outputs": [],
   "source": []
  },
  {
   "cell_type": "code",
   "execution_count": null,
   "id": "selective-ethics",
   "metadata": {},
   "outputs": [],
   "source": []
  },
  {
   "cell_type": "code",
   "execution_count": null,
   "id": "quiet-institution",
   "metadata": {},
   "outputs": [],
   "source": []
  }
 ],
 "metadata": {
  "kernelspec": {
   "display_name": "Python 3",
   "language": "python",
   "name": "python3"
  },
  "language_info": {
   "codemirror_mode": {
    "name": "ipython",
    "version": 3
   },
   "file_extension": ".py",
   "mimetype": "text/x-python",
   "name": "python",
   "nbconvert_exporter": "python",
   "pygments_lexer": "ipython3",
   "version": "3.7.10"
  }
 },
 "nbformat": 4,
 "nbformat_minor": 5
}
