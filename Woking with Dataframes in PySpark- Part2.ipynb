{
 "cells": [
  {
   "cell_type": "markdown",
   "id": "documented-flight",
   "metadata": {},
   "source": [
    "# Pyspark Handling Missing Values\n"
   ]
  },
  {
   "cell_type": "raw",
   "id": "adopted-greece",
   "metadata": {},
   "source": [
    "Dropping Columns\n",
    "Dropping Rows\n",
    "Various Parameter In Dropping functionalities\n",
    "Handling Missing values by Mean, Median And Mode\n"
   ]
  },
  {
   "cell_type": "code",
   "execution_count": 1,
   "id": "arranged-membrane",
   "metadata": {},
   "outputs": [],
   "source": [
    "from pyspark.sql import SparkSession"
   ]
  },
  {
   "cell_type": "code",
   "execution_count": 2,
   "id": "living-toyota",
   "metadata": {},
   "outputs": [],
   "source": [
    "spark = SparkSession.builder.appName('Dataframe').getOrCreate()"
   ]
  },
  {
   "cell_type": "code",
   "execution_count": 3,
   "id": "suspected-intranet",
   "metadata": {},
   "outputs": [
    {
     "data": {
      "text/html": [
       "\n",
       "            <div>\n",
       "                <p><b>SparkSession - in-memory</b></p>\n",
       "                \n",
       "        <div>\n",
       "            <p><b>SparkContext</b></p>\n",
       "\n",
       "            <p><a href=\"http://9.211.57.46:4042\">Spark UI</a></p>\n",
       "\n",
       "            <dl>\n",
       "              <dt>Version</dt>\n",
       "                <dd><code>v3.1.2</code></dd>\n",
       "              <dt>Master</dt>\n",
       "                <dd><code>local[*]</code></dd>\n",
       "              <dt>AppName</dt>\n",
       "                <dd><code>Dataframe</code></dd>\n",
       "            </dl>\n",
       "        </div>\n",
       "        \n",
       "            </div>\n",
       "        "
      ],
      "text/plain": [
       "<pyspark.sql.session.SparkSession at 0x2a07a1ee448>"
      ]
     },
     "execution_count": 3,
     "metadata": {},
     "output_type": "execute_result"
    }
   ],
   "source": [
    "spark"
   ]
  },
  {
   "cell_type": "code",
   "execution_count": 4,
   "id": "pregnant-military",
   "metadata": {},
   "outputs": [],
   "source": [
    "df_pyspark = spark.read.csv('Test2.csv', header = True, inferSchema = True)"
   ]
  },
  {
   "cell_type": "code",
   "execution_count": 5,
   "id": "executive-final",
   "metadata": {},
   "outputs": [
    {
     "name": "stdout",
     "output_type": "stream",
     "text": [
      "+------+----+----------+------+\n",
      "|  Name| Age|Experience|Salary|\n",
      "+------+----+----------+------+\n",
      "|Gaurav|  20|        10| 30000|\n",
      "|Roopam|  32|        10| 90000|\n",
      "|Naresh|  45|        10| 21000|\n",
      "| Anuja|  34|        10|  null|\n",
      "|    TP|  34|        23| 20000|\n",
      "| Sampy|  23|        21|100000|\n",
      "|  null|null|      null|900000|\n",
      "|Xavier|  20|         9| 80000|\n",
      "+------+----+----------+------+\n",
      "\n"
     ]
    }
   ],
   "source": [
    "df_pyspark.show()"
   ]
  },
  {
   "cell_type": "code",
   "execution_count": 6,
   "id": "elementary-prerequisite",
   "metadata": {},
   "outputs": [
    {
     "name": "stdout",
     "output_type": "stream",
     "text": [
      "root\n",
      " |-- Name: string (nullable = true)\n",
      " |-- Age: integer (nullable = true)\n",
      " |-- Experience: integer (nullable = true)\n",
      " |-- Salary: integer (nullable = true)\n",
      "\n"
     ]
    }
   ],
   "source": [
    "df_pyspark.printSchema()"
   ]
  },
  {
   "cell_type": "code",
   "execution_count": 7,
   "id": "sudden-combat",
   "metadata": {},
   "outputs": [
    {
     "name": "stdout",
     "output_type": "stream",
     "text": [
      "+----+----------+------+\n",
      "| Age|Experience|Salary|\n",
      "+----+----------+------+\n",
      "|  20|        10| 30000|\n",
      "|  32|        10| 90000|\n",
      "|  45|        10| 21000|\n",
      "|  34|        10|  null|\n",
      "|  34|        23| 20000|\n",
      "|  23|        21|100000|\n",
      "|null|      null|900000|\n",
      "|  20|         9| 80000|\n",
      "+----+----------+------+\n",
      "\n"
     ]
    }
   ],
   "source": [
    "##Drop the columns\n",
    "df_pyspark.drop('Name').show()"
   ]
  },
  {
   "cell_type": "code",
   "execution_count": 8,
   "id": "announced-kingston",
   "metadata": {},
   "outputs": [
    {
     "name": "stdout",
     "output_type": "stream",
     "text": [
      "+------+---+----------+------+\n",
      "|  Name|Age|Experience|Salary|\n",
      "+------+---+----------+------+\n",
      "|Gaurav| 20|        10| 30000|\n",
      "|Roopam| 32|        10| 90000|\n",
      "|Naresh| 45|        10| 21000|\n",
      "|    TP| 34|        23| 20000|\n",
      "| Sampy| 23|        21|100000|\n",
      "|Xavier| 20|         9| 80000|\n",
      "+------+---+----------+------+\n",
      "\n"
     ]
    }
   ],
   "source": [
    "## Dropping the rows with even a single null value\n",
    "df_pyspark.na.drop().show()"
   ]
  },
  {
   "cell_type": "code",
   "execution_count": 9,
   "id": "rising-pantyhose",
   "metadata": {},
   "outputs": [
    {
     "name": "stdout",
     "output_type": "stream",
     "text": [
      "+------+---+----------+------+\n",
      "|  Name|Age|Experience|Salary|\n",
      "+------+---+----------+------+\n",
      "|Gaurav| 20|        10| 30000|\n",
      "|Roopam| 32|        10| 90000|\n",
      "|Naresh| 45|        10| 21000|\n",
      "|    TP| 34|        23| 20000|\n",
      "| Sampy| 23|        21|100000|\n",
      "|Xavier| 20|         9| 80000|\n",
      "+------+---+----------+------+\n",
      "\n"
     ]
    }
   ],
   "source": [
    "df_pyspark.na.drop(how = 'any').show()"
   ]
  },
  {
   "cell_type": "code",
   "execution_count": 10,
   "id": "charged-cookbook",
   "metadata": {},
   "outputs": [],
   "source": [
    "##Threshold "
   ]
  },
  {
   "cell_type": "code",
   "execution_count": 11,
   "id": "diagnostic-boston",
   "metadata": {},
   "outputs": [
    {
     "name": "stdout",
     "output_type": "stream",
     "text": [
      "+------+---+----------+------+\n",
      "|  Name|Age|Experience|Salary|\n",
      "+------+---+----------+------+\n",
      "|Gaurav| 20|        10| 30000|\n",
      "|Roopam| 32|        10| 90000|\n",
      "|Naresh| 45|        10| 21000|\n",
      "| Anuja| 34|        10|  null|\n",
      "|    TP| 34|        23| 20000|\n",
      "| Sampy| 23|        21|100000|\n",
      "|Xavier| 20|         9| 80000|\n",
      "+------+---+----------+------+\n",
      "\n"
     ]
    }
   ],
   "source": [
    "df_pyspark.na.drop(how = 'any', thresh = 2).show()  ##Atleast 2 non-null values are there"
   ]
  },
  {
   "cell_type": "code",
   "execution_count": 12,
   "id": "female-fever",
   "metadata": {},
   "outputs": [],
   "source": [
    "##Subset"
   ]
  },
  {
   "cell_type": "code",
   "execution_count": 13,
   "id": "coastal-chamber",
   "metadata": {},
   "outputs": [
    {
     "name": "stdout",
     "output_type": "stream",
     "text": [
      "+------+---+----------+------+\n",
      "|  Name|Age|Experience|Salary|\n",
      "+------+---+----------+------+\n",
      "|Gaurav| 20|        10| 30000|\n",
      "|Roopam| 32|        10| 90000|\n",
      "|Naresh| 45|        10| 21000|\n",
      "| Anuja| 34|        10|  null|\n",
      "|    TP| 34|        23| 20000|\n",
      "| Sampy| 23|        21|100000|\n",
      "|Xavier| 20|         9| 80000|\n",
      "+------+---+----------+------+\n",
      "\n"
     ]
    }
   ],
   "source": [
    "df_pyspark.na.drop(how = 'any', subset = ['Experience']).show()###Any null value in Experience will be dropped"
   ]
  },
  {
   "cell_type": "code",
   "execution_count": 14,
   "id": "infinite-tension",
   "metadata": {},
   "outputs": [],
   "source": [
    "##Filling the missing values"
   ]
  },
  {
   "cell_type": "code",
   "execution_count": 17,
   "id": "fiscal-romantic",
   "metadata": {},
   "outputs": [
    {
     "name": "stdout",
     "output_type": "stream",
     "text": [
      "+-------------+----+----------+------+\n",
      "|         Name| Age|Experience|Salary|\n",
      "+-------------+----+----------+------+\n",
      "|       Gaurav|  20|        10| 30000|\n",
      "|       Roopam|  32|        10| 90000|\n",
      "|       Naresh|  45|        10| 21000|\n",
      "|        Anuja|  34|        10|  null|\n",
      "|           TP|  34|        23| 20000|\n",
      "|        Sampy|  23|        21|100000|\n",
      "|Missing Value|null|      null|900000|\n",
      "|       Xavier|  20|         9| 80000|\n",
      "+-------------+----+----------+------+\n",
      "\n"
     ]
    }
   ],
   "source": [
    "df_pyspark.na.fill('Missing Value').show()"
   ]
  },
  {
   "cell_type": "code",
   "execution_count": 22,
   "id": "educational-spencer",
   "metadata": {},
   "outputs": [
    {
     "name": "stdout",
     "output_type": "stream",
     "text": [
      "+------+----+----------+------+\n",
      "|  Name| Age|Experience|Salary|\n",
      "+------+----+----------+------+\n",
      "|Gaurav|  20|        10| 30000|\n",
      "|Roopam|  32|        10| 90000|\n",
      "|Naresh|  45|        10| 21000|\n",
      "| Anuja|  34|        10|  null|\n",
      "|    TP|  34|        23| 20000|\n",
      "| Sampy|  23|        21|100000|\n",
      "|  null|null|      null|900000|\n",
      "|Xavier|  20|         9| 80000|\n",
      "+------+----+----------+------+\n",
      "\n"
     ]
    }
   ],
   "source": [
    "df_pyspark.na.fill('Missing Value','Experience').show()"
   ]
  },
  {
   "cell_type": "code",
   "execution_count": 23,
   "id": "metropolitan-vision",
   "metadata": {},
   "outputs": [
    {
     "name": "stdout",
     "output_type": "stream",
     "text": [
      "+------+----+----------+------+\n",
      "|  Name| Age|Experience|Salary|\n",
      "+------+----+----------+------+\n",
      "|Gaurav|  20|        10| 30000|\n",
      "|Roopam|  32|        10| 90000|\n",
      "|Naresh|  45|        10| 21000|\n",
      "| Anuja|  34|        10|  null|\n",
      "|    TP|  34|        23| 20000|\n",
      "| Sampy|  23|        21|100000|\n",
      "|  null|null|      null|900000|\n",
      "|Xavier|  20|         9| 80000|\n",
      "+------+----+----------+------+\n",
      "\n"
     ]
    }
   ],
   "source": [
    "df_pyspark.show()"
   ]
  },
  {
   "cell_type": "code",
   "execution_count": 28,
   "id": "floating-smart",
   "metadata": {},
   "outputs": [],
   "source": [
    "##Adding Values using Imputer function"
   ]
  },
  {
   "cell_type": "code",
   "execution_count": 24,
   "id": "completed-latino",
   "metadata": {},
   "outputs": [],
   "source": [
    "from pyspark.ml.feature import Imputer\n",
    "\n",
    "imputer = Imputer(\n",
    "    inputCols=['Age', 'Experience', 'Salary'], \n",
    "    outputCols=[\"{}_imputed\".format(c) for c in ['Age', 'Experience', 'Salary']]\n",
    "    ).setStrategy(\"median\")"
   ]
  },
  {
   "cell_type": "code",
   "execution_count": 26,
   "id": "assisted-eclipse",
   "metadata": {},
   "outputs": [
    {
     "name": "stdout",
     "output_type": "stream",
     "text": [
      "+------+----+----------+------+\n",
      "|  Name| Age|Experience|Salary|\n",
      "+------+----+----------+------+\n",
      "|Gaurav|  20|        10| 30000|\n",
      "|Roopam|  32|        10| 90000|\n",
      "|Naresh|  45|        10| 21000|\n",
      "| Anuja|  34|        10|  null|\n",
      "|    TP|  34|        23| 20000|\n",
      "| Sampy|  23|        21|100000|\n",
      "|  null|null|      null|900000|\n",
      "|Xavier|  20|         9| 80000|\n",
      "+------+----+----------+------+\n",
      "\n"
     ]
    }
   ],
   "source": [
    "df_pyspark.show()"
   ]
  },
  {
   "cell_type": "code",
   "execution_count": 27,
   "id": "domestic-trial",
   "metadata": {},
   "outputs": [
    {
     "name": "stdout",
     "output_type": "stream",
     "text": [
      "+------+----+----------+------+-----------+------------------+--------------+\n",
      "|  Name| Age|Experience|Salary|Age_imputed|Experience_imputed|Salary_imputed|\n",
      "+------+----+----------+------+-----------+------------------+--------------+\n",
      "|Gaurav|  20|        10| 30000|         20|                10|         30000|\n",
      "|Roopam|  32|        10| 90000|         32|                10|         90000|\n",
      "|Naresh|  45|        10| 21000|         45|                10|         21000|\n",
      "| Anuja|  34|        10|  null|         34|                10|         80000|\n",
      "|    TP|  34|        23| 20000|         34|                23|         20000|\n",
      "| Sampy|  23|        21|100000|         23|                21|        100000|\n",
      "|  null|null|      null|900000|         32|                10|        900000|\n",
      "|Xavier|  20|         9| 80000|         20|                 9|         80000|\n",
      "+------+----+----------+------+-----------+------------------+--------------+\n",
      "\n"
     ]
    }
   ],
   "source": [
    "imputer.fit(df_pyspark).transform(df_pyspark).show()"
   ]
  },
  {
   "cell_type": "code",
   "execution_count": null,
   "id": "welsh-rouge",
   "metadata": {},
   "outputs": [],
   "source": []
  },
  {
   "cell_type": "code",
   "execution_count": null,
   "id": "false-relation",
   "metadata": {},
   "outputs": [],
   "source": []
  },
  {
   "cell_type": "code",
   "execution_count": null,
   "id": "objective-warner",
   "metadata": {},
   "outputs": [],
   "source": []
  },
  {
   "cell_type": "code",
   "execution_count": null,
   "id": "charged-beach",
   "metadata": {},
   "outputs": [],
   "source": []
  },
  {
   "cell_type": "code",
   "execution_count": null,
   "id": "liquid-childhood",
   "metadata": {},
   "outputs": [],
   "source": []
  }
 ],
 "metadata": {
  "kernelspec": {
   "display_name": "Python 3",
   "language": "python",
   "name": "python3"
  },
  "language_info": {
   "codemirror_mode": {
    "name": "ipython",
    "version": 3
   },
   "file_extension": ".py",
   "mimetype": "text/x-python",
   "name": "python",
   "nbconvert_exporter": "python",
   "pygments_lexer": "ipython3",
   "version": "3.7.10"
  }
 },
 "nbformat": 4,
 "nbformat_minor": 5
}
